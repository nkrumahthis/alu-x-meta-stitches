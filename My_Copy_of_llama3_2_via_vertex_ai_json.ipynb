{
  "cells": [
    {
      "cell_type": "markdown",
      "metadata": {
        "id": "view-in-github",
        "colab_type": "text"
      },
      "source": [
        "<a href=\"https://colab.research.google.com/github/nkrumahthis/alu-x-meta-stitches/blob/main/My_Copy_of_llama3_2_via_vertex_ai_json.ipynb\" target=\"_parent\"><img src=\"https://colab.research.google.com/assets/colab-badge.svg\" alt=\"Open In Colab\"/></a>"
      ]
    },
    {
      "cell_type": "markdown",
      "metadata": {
        "id": "bboyNjNwpUoI"
      },
      "source": [
        "## Image-to-text Inference with Llama 3.2 90B Vision Instruct Model\n",
        "\n",
        "This notebook demonstrates how to perform inference on a llama3.2 90B Vision Model.\n",
        "\n",
        "Make a copy of this file and do not directly edit it."
      ]
    },
    {
      "cell_type": "markdown",
      "metadata": {
        "id": "1mSfCOrnrEDA"
      },
      "source": [
        "Install the required libraries"
      ]
    },
    {
      "cell_type": "code",
      "execution_count": null,
      "metadata": {
        "collapsed": true,
        "id": "rEG3NJLOu6mX"
      },
      "outputs": [],
      "source": [
        "! pip3 install --upgrade --quiet google-cloud-aiplatform openai google"
      ]
    },
    {
      "cell_type": "markdown",
      "metadata": {
        "id": "YB2KDWzotc8M"
      },
      "source": [
        "Imports"
      ]
    },
    {
      "cell_type": "code",
      "execution_count": null,
      "metadata": {
        "id": "YSPcS2dE1dff"
      },
      "outputs": [],
      "source": [
        "import openai\n",
        "\n",
        "from google.auth import default, transport\n",
        "from google.cloud import storage\n",
        "\n",
        "from google.oauth2 import service_account\n",
        "from google.colab import auth\n",
        "\n",
        "from PIL import Image\n",
        "import requests\n",
        "\n",
        "import io\n",
        "from IPython.display import display\n",
        "\n",
        "import base64\n",
        "\n",
        "import re\n",
        "import json"
      ]
    },
    {
      "cell_type": "markdown",
      "metadata": {
        "id": "HltToaFErG8f"
      },
      "source": [
        "### Authenticate using service account credentials\n",
        "\n",
        "A service account credential file will be shared with you at the beginning of the session. To set up authentication:\n",
        "\n",
        " Open the \"sample_data\" directory and create a new file called \"cred.json\". Copy the contents of the shared credential file into it.\n",
        "\n",
        "1.   Click on the file icon to the left of your screen to access files\n",
        "2.   Open the sample_date directory\n",
        "3.   Upload the service account credentials json file shared with you\n",
        "4.   If necessary, change path of KEY_FILE_PATH to match the uploaded file\n",
        "\n"
      ]
    },
    {
      "cell_type": "code",
      "execution_count": null,
      "metadata": {
        "id": "uxfBphjSXfQZ"
      },
      "outputs": [],
      "source": [
        "# Replace with the path to your shared JSON key file\n",
        "KEY_FILE_PATH = './cred.json'\n",
        "\n",
        "# Load credentials from the JSON key file\n",
        "credentials = service_account.Credentials.from_service_account_file(\n",
        "    KEY_FILE_PATH,\n",
        "    scopes=['https://www.googleapis.com/auth/cloud-platform']\n",
        ")\n",
        "\n",
        "# Authenticate using the service account credentials\n",
        "auth.authenticate_user()"
      ]
    },
    {
      "cell_type": "markdown",
      "metadata": {
        "id": "uaXmUZOw1yms"
      },
      "source": [
        "Refresh Credentials.\n",
        "Creates credentials with a lifespan of 1hour."
      ]
    },
    {
      "cell_type": "code",
      "execution_count": null,
      "metadata": {
        "id": "zyXtpZTAKEMj"
      },
      "outputs": [],
      "source": [
        "credentials, _ = default()\n",
        "auth_request = transport.requests.Request()\n",
        "credentials.refresh(auth_request)"
      ]
    },
    {
      "cell_type": "markdown",
      "metadata": {
        "id": "4m0_Gg7Ttlmp"
      },
      "source": [
        "Set up project and model details"
      ]
    },
    {
      "cell_type": "code",
      "execution_count": null,
      "metadata": {
        "id": "B7htMgfDG12F"
      },
      "outputs": [],
      "source": [
        "LOCATION = \"us-central1\"\n",
        "MAAS_ENDPOINT = f\"{LOCATION}-aiplatform.googleapis.com\"\n",
        "PROJECT_ID=\"studious-plate-436913-c1\"\n",
        "MODEL_ID=\"meta/llama-3.2-90b-vision-instruct-maas\"\n",
        "BUCKET_URI = \"gs://metallama3bootcamp\""
      ]
    },
    {
      "cell_type": "markdown",
      "metadata": {
        "id": "TUBNr8gdttQf"
      },
      "source": [
        "Likely unneccesary to run this, as the Storage Bucket already exists.\n",
        "Create a Google Cloud Storage Bucket for the roject."
      ]
    },
    {
      "cell_type": "code",
      "execution_count": null,
      "metadata": {
        "id": "0oFMI6pqMMsD"
      },
      "outputs": [],
      "source": [
        "! gsutil mb -l {LOCATION} -p {PROJECT_ID} {BUCKET_URI}"
      ]
    },
    {
      "cell_type": "markdown",
      "metadata": {
        "id": "a91WUI8n2JB2"
      },
      "source": [
        "Set up the client, design the prompt, and run inference."
      ]
    },
    {
      "cell_type": "code",
      "execution_count": null,
      "metadata": {
        "id": "o89UpCa8AQCG"
      },
      "outputs": [],
      "source": [
        "openai_client = openai.OpenAI(\n",
        "        base_url=f\"https://{MAAS_ENDPOINT}/v1beta1/projects/{PROJECT_ID}/locations/{LOCATION}/endpoints/openapi\",\n",
        "        api_key=credentials.token,\n",
        "    )"
      ]
    },
    {
      "cell_type": "markdown",
      "metadata": {
        "id": "qJ5EjHMSIYpO"
      },
      "source": [
        "Download the image"
      ]
    },
    {
      "cell_type": "code",
      "execution_count": null,
      "metadata": {
        "id": "GesEffj9IaVQ"
      },
      "outputs": [],
      "source": [
        "\n",
        "# Specify your bucket and blob name\n",
        "# blob_name = \"pra_2020-11-18.png\"\n",
        "blob_name = \"pra_2014-02-20.png\"\n",
        "\n",
        "prompt = \"\"\"\n",
        "given this image of a river, give me your answer in json like\n",
        "\n",
        "```{\"name\": \"Birim\", \"muddiness_score\":1, \"date\": \"2023-12-12\"}```\n",
        "\n",
        "on this criteria:\n",
        "name: get it from the file name\n",
        "date: get it from the file name\n",
        "muddiness_score: give a muddiness_score based on how brown the river looks, on a score of 0 to 10. if the river looks bluish or greenish, give it a 0-4 score. if it looks brown, give it a high score 5-10.\n",
        "\n",
        "file name:\n",
        "\"\"\" + blob_name + \"\"\"\n",
        "\n",
        "**Answer:**\n",
        "\"\"\"\n",
        "\n",
        "# Set the maximum number of tokens to generate\n",
        "max_tokens=250\n",
        "\n",
        "print(prompt)\n"
      ]
    },
    {
      "cell_type": "code",
      "execution_count": null,
      "metadata": {
        "id": "80U7KklVuEB2"
      },
      "outputs": [],
      "source": [
        "def find_json(text):\n",
        "  match = re.search(r'\\{.*\\}', text)\n",
        "  if match:\n",
        "    try:\n",
        "      json_string = match.group(0)\n",
        "      json_object = json.loads(json_string)\n",
        "      return json_object\n",
        "    except ValueError:\n",
        "      return None\n",
        "  else:\n",
        "    return None\n",
        "\n",
        "prompt_jsons = []"
      ]
    },
    {
      "cell_type": "code",
      "execution_count": null,
      "metadata": {
        "id": "cefPfBqdskxn"
      },
      "outputs": [],
      "source": [
        "# Replace with your bucket name\n",
        "bucket_name = \"metallama3bootcamp\"\n",
        "\n",
        "storage_client = storage.Client()\n",
        "\n",
        "# Get the bucket\n",
        "bucket = storage_client.bucket(bucket_name)\n",
        "\n",
        "# List all blobs in the bucket\n",
        "blobs = bucket.list_blobs()\n",
        "\n",
        "# Create a list of blob names\n",
        "blob_names = [blob.name for blob in blobs]\n",
        "\n",
        "# Print the list of blob names\n",
        "print(blob_names)\n"
      ]
    },
    {
      "cell_type": "code",
      "execution_count": null,
      "metadata": {
        "colab": {
          "background_save": true
        },
        "id": "pX8mVKAG4A6U"
      },
      "outputs": [],
      "source": [
        "for blob_name in blob_names:\n",
        "  river_image_url = \"gs://metallama3bootcamp/\" + blob_name\n",
        "\n",
        "  prompt = \"\"\"\n",
        "given this image of a river, give me your answer in json like\n",
        "\n",
        "```{\"name\": \"Birim\", \"muddiness_score\":1, \"date\": \"2023-12-12\"}```\n",
        "\n",
        "on this criteria:\n",
        "name: get it from the file name\n",
        "date: get it from the file name\n",
        "muddiness_score: give a muddiness_score based on how brown the river looks, on a score of 0 to 10. if the river looks bluish or greenish, give it a 0-4 score. if it looks brown, give it a high score 5-10.\n",
        "\n",
        "file name:\n",
        "\"\"\" + blob_name + \"\"\"\n",
        "\n",
        "**Answer:**\n",
        "\"\"\"\n",
        "\n",
        "  print(prompt)\n",
        "\n",
        "  # Download the image\n",
        "  blob = bucket.blob(blob_name)\n",
        "\n",
        "  if blob_name.split(\".\")[-1] != \"png\":\n",
        "    continue\n",
        "\n",
        "  # Read the image into memory\n",
        "  image_data = blob.download_as_bytes()\n",
        "  image = Image.open(io.BytesIO(image_data))\n",
        "\n",
        "  response = openai_client.chat.completions.create(\n",
        "      model=MODEL_ID,\n",
        "      messages=[\n",
        "          {\n",
        "              \"role\": \"user\",\n",
        "              \"content\": [\n",
        "                  {\n",
        "                      \"image_url\": {\n",
        "                          \"url\": river_image_url\n",
        "                      },\n",
        "                      \"type\": \"image_url\",\n",
        "                  },\n",
        "                  {\"text\": prompt, \"type\": \"text\"},\n",
        "              ],\n",
        "          },\n",
        "      ],\n",
        "      max_tokens=max_tokens,\n",
        "  )\n",
        "\n",
        "  display(image)\n",
        "  print(response.choices[0].message.content)\n",
        "  answer = response.choices[0].message.content\n",
        "\n"
      ]
    },
    {
      "cell_type": "code",
      "execution_count": null,
      "metadata": {
        "id": "GUcrMiJWeQ3c"
      },
      "outputs": [],
      "source": [
        "\n",
        "\n",
        "json_object = find_json(answer)\n",
        "print(json_object)"
      ]
    }
  ],
  "metadata": {
    "colab": {
      "provenance": [],
      "include_colab_link": true
    },
    "kernelspec": {
      "display_name": "Python 3",
      "name": "python3"
    },
    "language_info": {
      "name": "python"
    }
  },
  "nbformat": 4,
  "nbformat_minor": 0
}